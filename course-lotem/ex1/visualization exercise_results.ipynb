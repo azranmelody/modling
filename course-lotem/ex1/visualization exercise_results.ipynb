{
 "cells": [
  {
   "cell_type": "markdown",
   "metadata": {},
   "source": [
    "## Visualization exercise\n",
    "```In the following exercise you are to practice simple data scientist tasks. Mainly, you learn about a few common, useful but slightly advanced visualization methods. You will work with the Chicago Crime data, which concerns crimes in Chicago. You will be asked to draw some of this data features.```\n",
    "\n",
    "```~Ittai Haran```"
   ]
  },
  {
   "cell_type": "code",
   "execution_count": null,
   "metadata": {},
   "outputs": [],
   "source": [
    "import seaborn as sns\n",
    "import numpy as np\n",
    "import pandas as pd\n",
    "\n",
    "import matplotlib.pyplot as plt\n",
    "%matplotlib inline"
   ]
  },
  {
   "cell_type": "markdown",
   "metadata": {},
   "source": [
    "```Start with loading the data.\n",
    "link for the data: https://drive.google.com/open?id=1oy7hnl3u8IYt7U69kOqATwbooEXSUzrm```"
   ]
  },
  {
   "cell_type": "code",
   "execution_count": null,
   "metadata": {},
   "outputs": [],
   "source": [
    "df = pd.read_csv('D:\\Download\\Crimes_-_2001_to_present.csv')"
   ]
  },
  {
   "cell_type": "markdown",
   "metadata": {},
   "source": [
    "```What are the types of the columns? Which columns contain numbers? Which contain nans?\n",
    "Among the categorical columns that contain nans, how many distinct values are there?```"
   ]
  },
  {
   "cell_type": "code",
   "execution_count": null,
   "metadata": {},
   "outputs": [],
   "source": [
    "print('types:')\n",
    "df.info(null_counts=True)"
   ]
  },
  {
   "cell_type": "code",
   "execution_count": null,
   "metadata": {},
   "outputs": [],
   "source": [
    "print('columns which contain numbers:')\n",
    "df.loc[:, (df.dtypes == np.float64) | (df.dtypes == np.int64) ].columns"
   ]
  },
  {
   "cell_type": "code",
   "execution_count": null,
   "metadata": {},
   "outputs": [],
   "source": [
    "print('check all columns - if contains nan:')\n",
    "df.isnull().sum()"
   ]
  },
  {
   "cell_type": "code",
   "execution_count": null,
   "metadata": {},
   "outputs": [],
   "source": [
    "print('only columns which contain nans')\n",
    "nan_cols = [i for i in df.columns if df[i].isnull().any()]\n",
    "nan_cols"
   ]
  },
  {
   "cell_type": "code",
   "execution_count": null,
   "metadata": {},
   "outputs": [],
   "source": [
    "print('only categories columns which contain nans')\n",
    "nan_cols_categories = [i for i in df.columns if df[i].isnull().any() and df[i].dtype=='object']\n",
    "print(nan_cols_categories)\n",
    "print('disrict vales for there feature')\n",
    "df[nan_cols_categories].nunique()"
   ]
  },
  {
   "cell_type": "markdown",
   "metadata": {},
   "source": [
    "```Plot the distribution of each of the numeric features (hist: plt.hist, or pd.DataFrame.hist).\n",
    "Also, If there are columns that have missing values, but also have less than 200 different values, plot their histogram ( maybe by using sns.categorical.countplot).```"
   ]
  },
  {
   "cell_type": "code",
   "execution_count": null,
   "metadata": {},
   "outputs": [],
   "source": [
    "sns.set(rc={'figure.figsize':(10,3)})\n",
    "num_features = df.loc[:, (df.dtypes == np.float64) | (df.dtypes == np.int64) ].columns\n",
    "for feat in num_features:\n",
    "    df[feat].hist()\n",
    "    plt.title(feat)\n",
    "    plt.show()"
   ]
  },
  {
   "cell_type": "code",
   "execution_count": null,
   "metadata": {},
   "outputs": [],
   "source": [
    "sns.set(rc={'figure.figsize':(10,25)})\n",
    "for feat in nan_cols_categories:\n",
    "    if(df[feat].nunique()<200):\n",
    "        sns.countplot(y=feat, data=df , order = df[feat].value_counts().index)\n",
    "        plt.show()"
   ]
  },
  {
   "cell_type": "markdown",
   "metadata": {},
   "source": [
    "```Now plot the number of crimes in Chicago per month, and the number of arrests per month. Use df.plot.```"
   ]
  },
  {
   "cell_type": "code",
   "execution_count": null,
   "metadata": {},
   "outputs": [],
   "source": [
    "#extracing the month from the date\n",
    "df['Month'] = df['Date'].apply(lambda x: x[:2])"
   ]
  },
  {
   "cell_type": "code",
   "execution_count": null,
   "metadata": {},
   "outputs": [],
   "source": [
    "sns.set(rc={'figure.figsize':(20,5)})\n",
    "ax = sns.countplot(x='Month', data=df)\n",
    "plt.title('number of crimes in Chicago per month')\n",
    "for p in ax.patches:\n",
    "        ax.annotate('{:.0f}'.format(p.get_height()), (p.get_x()+0.1, p.get_height()*1.005))"
   ]
  },
  {
   "cell_type": "markdown",
   "metadata": {},
   "source": [
    "```Do the same for weeks rather than months. Use df.resample.```"
   ]
  },
  {
   "cell_type": "code",
   "execution_count": null,
   "metadata": {},
   "outputs": [],
   "source": [
    "df['LightDate'] = df['Date'].apply(lambda x: x[0:10]) #i did it because it took too long to convert the whole date to datetime\n",
    "df['LightDate'] = pd.to_datetime(df['LightDate'])\n",
    "df['Week'] = df['LightDate'].dt.week\n",
    "\n",
    "sns.set(rc={'figure.figsize':(50,5)})\n",
    "ax = sns.countplot(x='Week', data=df)\n",
    "plt.title('number of crimes in Chicago per month')\n",
    "for p in ax.patches:\n",
    "        ax.annotate('{:.0f}'.format(p.get_height()), (p.get_x()+0.1, p.get_height()*1.005))"
   ]
  },
  {
   "cell_type": "code",
   "execution_count": null,
   "metadata": {},
   "outputs": [],
   "source": [
    "df['Arrest']"
   ]
  },
  {
   "cell_type": "markdown",
   "metadata": {},
   "source": [
    "```Lets look at the distribution of 'Ward', for Arrest=True and for Arrest=False. Use sns.violinplot.```"
   ]
  },
  {
   "cell_type": "code",
   "execution_count": null,
   "metadata": {},
   "outputs": [],
   "source": [
    "sns.set(rc={'figure.figsize':(10,10)})\n",
    "plt.show()\n",
    "sns.violinplot(data=df, y='Ward' , x='Arrest'  , palette=\"muted\")"
   ]
  },
  {
   "cell_type": "markdown",
   "metadata": {},
   "source": [
    "```Plot in the same graph, for each Primary Type, the number of crimes of this type, for each month. Do it using df.pivot_table.```"
   ]
  },
  {
   "cell_type": "code",
   "execution_count": null,
   "metadata": {},
   "outputs": [],
   "source": [
    "df['combine_date'] = (df['Year'].astype(str)) + (df['Month'].astype(str))\n",
    "#df['combine_date'] = df['combine_date'].astype('int32')"
   ]
  },
  {
   "cell_type": "code",
   "execution_count": null,
   "metadata": {},
   "outputs": [],
   "source": [
    "pivot_table = df.pivot_table(index='Primary Type' , columns='combine_date' , values='ID' ,aggfunc='count' )"
   ]
  },
  {
   "cell_type": "code",
   "execution_count": null,
   "metadata": {},
   "outputs": [],
   "source": [
    "sns.set(rc={'figure.figsize':(30,10)})\n",
    "for prim in pivot_table.index:\n",
    "    sns.lineplot(data = pivot_table.loc[prim], label=prim)\n",
    "    plt.xticks(rotation=90)\n",
    "    plt.legend(bbox_to_anchor=(1.05, 1), loc=2, borderaxespad=0.)"
   ]
  },
  {
   "cell_type": "markdown",
   "metadata": {},
   "source": [
    "```Let's focus on the features 'X Coordinate', 'Y Coordinate'. What is the relation between them? Use sns.pairplot and sns.jointplot to answer this question. You might want to get rid of the missing values before you act. Can you find another problem preventing you from understanding the relations between the features? What is it and how can you get rid of it?```"
   ]
  },
  {
   "cell_type": "code",
   "execution_count": null,
   "metadata": {},
   "outputs": [],
   "source": [
    "sns.pairplot(data=df[['X Coordinate', 'Y Coordinate']])"
   ]
  },
  {
   "cell_type": "code",
   "execution_count": null,
   "metadata": {},
   "outputs": [],
   "source": [
    "sns.jointplot(data=df[['X Coordinate', 'Y Coordinate']] , x='X Coordinate', y ='Y Coordinate')"
   ]
  },
  {
   "cell_type": "code",
   "execution_count": null,
   "metadata": {},
   "outputs": [],
   "source": [
    "df[['X Coordinate', 'Y Coordinate']].min()"
   ]
  },
  {
   "cell_type": "code",
   "execution_count": null,
   "metadata": {},
   "outputs": [],
   "source": [
    "helper_df_cordinate = df[['X Coordinate', 'Y Coordinate']][df[['X Coordinate', 'Y Coordinate']]!=0].dropna()"
   ]
  },
  {
   "cell_type": "code",
   "execution_count": null,
   "metadata": {},
   "outputs": [],
   "source": [
    "sns.pairplot(data=helper_df_cordinate[['X Coordinate', 'Y Coordinate']])"
   ]
  },
  {
   "cell_type": "code",
   "execution_count": null,
   "metadata": {},
   "outputs": [],
   "source": [
    "sns.jointplot(data=helper_df_cordinate, x='X Coordinate', y ='Y Coordinate', kind=\"hex\")"
   ]
  },
  {
   "cell_type": "markdown",
   "metadata": {},
   "source": [
    "```Split the map into 25 districts, and plot the number of crime incidents in each one of them, per month. First rotate the map so it will be more 'square-like' (Hint: by a linear transformation).```"
   ]
  },
  {
   "cell_type": "code",
   "execution_count": null,
   "metadata": {},
   "outputs": [],
   "source": [
    "sns.scatterplot(data=df[df['X Coordinate']!=0], y='X Coordinate', x='Y Coordinate' , hue='District')"
   ]
  },
  {
   "cell_type": "code",
   "execution_count": null,
   "metadata": {},
   "outputs": [],
   "source": [
    "pivot_table = df.pivot_table(index='District' , columns='combine_date' , values='ID' ,aggfunc='count' )\n",
    "sns.set(rc={'figure.figsize':(20,15)})\n",
    "for prim in pivot_table.index:\n",
    "    sns.lineplot(data = pivot_table.loc[prim], label=prim)\n",
    "    plt.xticks(rotation=90)\n",
    "    plt.legend(bbox_to_anchor=(1.05, 1), loc=2, borderaxespad=0.)"
   ]
  },
  {
   "cell_type": "markdown",
   "metadata": {},
   "source": [
    "```Bonus: create a word cloud from the words you can find in the 'Description' field.```"
   ]
  },
  {
   "cell_type": "code",
   "execution_count": null,
   "metadata": {},
   "outputs": [],
   "source": [
    "#!pip install wordcloud"
   ]
  },
  {
   "cell_type": "code",
   "execution_count": null,
   "metadata": {},
   "outputs": [],
   "source": [
    "from wordcloud import WordCloud, STOPWORDS"
   ]
  },
  {
   "cell_type": "code",
   "execution_count": null,
   "metadata": {},
   "outputs": [],
   "source": [
    "Description = []\n",
    "Description.extend(df['Description'])\n",
    "Description = ''.join(Description)"
   ]
  },
  {
   "cell_type": "code",
   "execution_count": null,
   "metadata": {},
   "outputs": [],
   "source": [
    "wordcloud = WordCloud(stopwords=STOPWORDS,\n",
    "                          background_color='white',\n",
    "                          width=1200,\n",
    "                          height=1000\n",
    "                         ).generate(Description)"
   ]
  },
  {
   "cell_type": "code",
   "execution_count": null,
   "metadata": {},
   "outputs": [],
   "source": [
    "plt.imshow(wordcloud)\n",
    "plt.axis('off')\n",
    "plt.show()"
   ]
  },
  {
   "cell_type": "code",
   "execution_count": null,
   "metadata": {},
   "outputs": [],
   "source": []
  },
  {
   "cell_type": "code",
   "execution_count": null,
   "metadata": {},
   "outputs": [],
   "source": []
  },
  {
   "cell_type": "code",
   "execution_count": null,
   "metadata": {},
   "outputs": [],
   "source": []
  },
  {
   "cell_type": "code",
   "execution_count": null,
   "metadata": {},
   "outputs": [],
   "source": []
  },
  {
   "cell_type": "code",
   "execution_count": null,
   "metadata": {},
   "outputs": [],
   "source": []
  },
  {
   "cell_type": "code",
   "execution_count": null,
   "metadata": {},
   "outputs": [],
   "source": []
  }
 ],
 "metadata": {
  "kernelspec": {
   "display_name": "Python 3",
   "language": "python",
   "name": "python3"
  },
  "language_info": {
   "codemirror_mode": {
    "name": "ipython",
    "version": 3
   },
   "file_extension": ".py",
   "mimetype": "text/x-python",
   "name": "python",
   "nbconvert_exporter": "python",
   "pygments_lexer": "ipython3",
   "version": "3.7.4"
  }
 },
 "nbformat": 4,
 "nbformat_minor": 4
}
