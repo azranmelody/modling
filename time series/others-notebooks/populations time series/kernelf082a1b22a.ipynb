{
 "cells": [
  {
   "cell_type": "code",
   "execution_count": null,
   "metadata": {
    "_cell_guid": "b1076dfc-b9ad-4769-8c92-a6c4dae69d19",
    "_uuid": "8f2839f25d086af736a60e9eeb907d3b93b6e0e5"
   },
   "outputs": [],
   "source": [
    "# This Python 3 environment comes with many helpful analytics libraries installed\n",
    "# It is defined by the kaggle/python docker image: https://github.com/kaggle/docker-python\n",
    "# For example, here's several helpful packages to load in \n",
    "\n",
    "# import numpy as np # linear algebra\n",
    "# import pandas as pd # data processing, CSV file I/O (e.g. pd.read_csv)\n",
    "\n",
    "# # Input data files are available in the \"../input/\" directory.\n",
    "# # For example, running this (by clicking run or pressing Shift+Enter) will list all files under the input directory\n",
    "\n",
    "# import os\n",
    "# for dirname, _, filenames in os.walk('/kaggle/input'):\n",
    "#     for filename in filenames:\n",
    "#         print(os.path.join(dirname, filename))\n",
    "\n",
    "# Any results you write to the current directory are saved as output."
   ]
  },
  {
   "cell_type": "code",
   "execution_count": 8,
   "metadata": {
    "_cell_guid": "79c7e3d0-c299-4dcb-8224-4455121ee9b0",
    "_uuid": "d629ff2d2480ee46fbb7e2d37f6b5fab8052498a"
   },
   "outputs": [
    {
     "data": {
      "text/html": [
       "<div>\n",
       "<style scoped>\n",
       "    .dataframe tbody tr th:only-of-type {\n",
       "        vertical-align: middle;\n",
       "    }\n",
       "\n",
       "    .dataframe tbody tr th {\n",
       "        vertical-align: top;\n",
       "    }\n",
       "\n",
       "    .dataframe thead th {\n",
       "        text-align: right;\n",
       "    }\n",
       "</style>\n",
       "<table border=\"1\" class=\"dataframe\">\n",
       "  <thead>\n",
       "    <tr style=\"text-align: right;\">\n",
       "      <th></th>\n",
       "      <th>date</th>\n",
       "      <th>realtime_start</th>\n",
       "      <th>value</th>\n",
       "      <th>realtime_end</th>\n",
       "    </tr>\n",
       "  </thead>\n",
       "  <tbody>\n",
       "    <tr>\n",
       "      <th>0</th>\n",
       "      <td>1952-01-01</td>\n",
       "      <td>2019-12-06</td>\n",
       "      <td>156309.0</td>\n",
       "      <td>2019-12-06</td>\n",
       "    </tr>\n",
       "    <tr>\n",
       "      <th>1</th>\n",
       "      <td>1952-02-01</td>\n",
       "      <td>2019-12-06</td>\n",
       "      <td>156527.0</td>\n",
       "      <td>2019-12-06</td>\n",
       "    </tr>\n",
       "    <tr>\n",
       "      <th>2</th>\n",
       "      <td>1952-03-01</td>\n",
       "      <td>2019-12-06</td>\n",
       "      <td>156731.0</td>\n",
       "      <td>2019-12-06</td>\n",
       "    </tr>\n",
       "  </tbody>\n",
       "</table>\n",
       "</div>"
      ],
      "text/plain": [
       "        date realtime_start     value realtime_end\n",
       "0 1952-01-01     2019-12-06  156309.0   2019-12-06\n",
       "1 1952-02-01     2019-12-06  156527.0   2019-12-06\n",
       "2 1952-03-01     2019-12-06  156731.0   2019-12-06"
      ]
     },
     "execution_count": 8,
     "metadata": {},
     "output_type": "execute_result"
    }
   ],
   "source": [
    "import pandas as pd\n",
    "#import keras\n",
    "import sklearn\n",
    "\n",
    "from statsmodels.tsa.seasonal import seasonal_decompose\n",
    "from dateutil.parser import parse\n",
    "\n",
    "data = pd.read_csv('population-time-series-data/POP.csv', parse_dates=['date'], index_col='date')\n",
    "data.reset_index(inplace=True)\n",
    "\n",
    "data.head(3)"
   ]
  },
  {
   "cell_type": "code",
   "execution_count": 9,
   "metadata": {},
   "outputs": [
    {
     "data": {
      "text/plain": [
       "<matplotlib.axes._subplots.AxesSubplot at 0x1b07354f7b8>"
      ]
     },
     "execution_count": 9,
     "metadata": {},
     "output_type": "execute_result"
    }
   ],
   "source": [
    "data.index = pd.date_range(freq='D',start=data['date'][0], periods=len(data['date']))\n",
    "from matplotlib.pyplot import plot\n",
    "\n",
    "data['value'].plot(color='k', title='Original Series')"
   ]
  },
  {
   "cell_type": "code",
   "execution_count": 10,
   "metadata": {},
   "outputs": [
    {
     "ename": "TypeError",
     "evalue": "seasonal_decompose() got an unexpected keyword argument 'extrapolate_trend'",
     "output_type": "error",
     "traceback": [
      "\u001b[1;31m---------------------------------------------------------------------------\u001b[0m",
      "\u001b[1;31mTypeError\u001b[0m                                 Traceback (most recent call last)",
      "\u001b[1;32m<ipython-input-10-903f5888ed28>\u001b[0m in \u001b[0;36m<module>\u001b[1;34m()\u001b[0m\n\u001b[1;32m----> 1\u001b[1;33m \u001b[0mresult_mul\u001b[0m \u001b[1;33m=\u001b[0m \u001b[0mseasonal_decompose\u001b[0m\u001b[1;33m(\u001b[0m\u001b[0mdata\u001b[0m\u001b[1;33m[\u001b[0m\u001b[1;34m'value'\u001b[0m\u001b[1;33m]\u001b[0m\u001b[1;33m,\u001b[0m \u001b[0mmodel\u001b[0m\u001b[1;33m=\u001b[0m\u001b[1;34m'multiplicative'\u001b[0m\u001b[1;33m,\u001b[0m \u001b[0mextrapolate_trend\u001b[0m\u001b[1;33m=\u001b[0m\u001b[1;34m'freq'\u001b[0m\u001b[1;33m)\u001b[0m\u001b[1;33m\u001b[0m\u001b[0m\n\u001b[0m\u001b[0;32m      2\u001b[0m \u001b[0mresult_mul\u001b[0m\u001b[1;33m.\u001b[0m\u001b[0mplot\u001b[0m\u001b[1;33m(\u001b[0m\u001b[1;33m)\u001b[0m\u001b[1;33m\u001b[0m\u001b[0m\n",
      "\u001b[1;31mTypeError\u001b[0m: seasonal_decompose() got an unexpected keyword argument 'extrapolate_trend'"
     ]
    }
   ],
   "source": [
    "result_mul = seasonal_decompose(data['value'], model='multiplicative', extrapolate_trend='freq')\n",
    "result_mul.plot()"
   ]
  },
  {
   "cell_type": "code",
   "execution_count": 11,
   "metadata": {},
   "outputs": [
    {
     "ename": "TypeError",
     "evalue": "seasonal_decompose() got an unexpected keyword argument 'extrapolate_trend'",
     "output_type": "error",
     "traceback": [
      "\u001b[1;31m---------------------------------------------------------------------------\u001b[0m",
      "\u001b[1;31mTypeError\u001b[0m                                 Traceback (most recent call last)",
      "\u001b[1;32m<ipython-input-11-09c941ce0027>\u001b[0m in \u001b[0;36m<module>\u001b[1;34m()\u001b[0m\n\u001b[1;32m----> 1\u001b[1;33m \u001b[0mresult_add\u001b[0m \u001b[1;33m=\u001b[0m \u001b[0mseasonal_decompose\u001b[0m\u001b[1;33m(\u001b[0m\u001b[0mdata\u001b[0m\u001b[1;33m[\u001b[0m\u001b[1;34m'value'\u001b[0m\u001b[1;33m]\u001b[0m\u001b[1;33m,\u001b[0m \u001b[0mmodel\u001b[0m\u001b[1;33m=\u001b[0m\u001b[1;34m'additive'\u001b[0m\u001b[1;33m,\u001b[0m \u001b[0mextrapolate_trend\u001b[0m\u001b[1;33m=\u001b[0m\u001b[1;34m'freq'\u001b[0m\u001b[1;33m)\u001b[0m\u001b[1;33m\u001b[0m\u001b[0m\n\u001b[0m\u001b[0;32m      2\u001b[0m \u001b[0mresult_add\u001b[0m\u001b[1;33m.\u001b[0m\u001b[0mplot\u001b[0m\u001b[1;33m(\u001b[0m\u001b[1;33m)\u001b[0m\u001b[1;33m\u001b[0m\u001b[0m\n",
      "\u001b[1;31mTypeError\u001b[0m: seasonal_decompose() got an unexpected keyword argument 'extrapolate_trend'"
     ]
    }
   ],
   "source": [
    "result_add = seasonal_decompose(data['value'], model='additive', extrapolate_trend='freq')\n",
    "result_add.plot()"
   ]
  },
  {
   "cell_type": "code",
   "execution_count": null,
   "metadata": {},
   "outputs": [],
   "source": [
    "from statsmodels.tsa.stattools import acf, pacf\n",
    "from statsmodels.graphics.tsaplots import plot_acf, plot_pacf\n",
    "\n",
    "plot_acf(data['value'].tolist(), lags=50)\n",
    "#plot_pacf(data['value'].tolist(), lags=50)"
   ]
  },
  {
   "cell_type": "code",
   "execution_count": null,
   "metadata": {},
   "outputs": [],
   "source": [
    "from statsmodels.nonparametric.smoothers_lowess import lowess\n",
    "\n",
    "# 1. Moving Average\n",
    "df_ma = data['value'].rolling(1000, center=True, closed='both').mean()\n",
    "df_ma.plot(title='Moving Average')\n",
    "df_std = data['value'].rolling(12, center=True, closed='both').std()\n",
    "df_std.plot(title='Moving Average')\n",
    "data['value'].plot(title='Moving Average')"
   ]
  },
  {
   "cell_type": "code",
   "execution_count": null,
   "metadata": {},
   "outputs": [],
   "source": [
    "# 2. Loess Smoothing (5% and 15%)\n",
    "df_loess_5 = pd.DataFrame(lowess(data['value'], np.arange(len(data['value'])), frac=0.05)[:, 1], index=data['date'], columns=['value'])\n",
    "df_loess_15 = pd.DataFrame(lowess(data['value'], np.arange(len(data['value'])), frac=0.85)[:, 1], index=data['date'], columns=['value'])\n",
    "\n",
    "# Plot\n",
    "df_loess_5['value'].plot(title='Loess Smoothed 5%')\n",
    "df_loess_15['value'].plot(title='Loess Smoothed 85%')\n"
   ]
  },
  {
   "cell_type": "markdown",
   "metadata": {},
   "source": [
    "Dickey-fuller Test :This is one of the statistical tests for checking stationarity. First we consider the null hypothesis: the time series is non- stationary. The result from the rest will contain the test statistic and critical value for different confidence levels. The idea is to have Test statistics less than critical value, in this case we can reject the null hypothesis and say that this Time series is indeed stationary (the force is strong with this one !!)"
   ]
  },
  {
   "cell_type": "code",
   "execution_count": null,
   "metadata": {},
   "outputs": [],
   "source": [
    "#Stationarity test\n",
    "from statsmodels.tsa.stattools import adfuller\n",
    "\n",
    "print('Results of Dickey-Fuller Test:')\n",
    "dftest = adfuller(data['value'], autolag='AIC')\n",
    "dfoutput = pd.Series(dftest[0:4], index=['Test Statistic','p-value','#Lags Used','Number of Observations Used'])\n",
    "for key,value in dftest[4].items():\n",
    "    dfoutput['Critical Value (%s)'%key] = value\n",
    "print(dfoutput)"
   ]
  },
  {
   "cell_type": "markdown",
   "metadata": {},
   "source": [
    "This is not stationary because :\n",
    "\n",
    "• mean is increasing even though the std is small.\n",
    "\n",
    "• Test stat is > critical value."
   ]
  },
  {
   "cell_type": "code",
   "execution_count": null,
   "metadata": {},
   "outputs": [],
   "source": [
    "diff = data['value'] - data['value'].shift()\n",
    "df_ma = diff.rolling(40, center=True, closed='both').mean()\n",
    "df_ma.plot(title='Moving Average')\n",
    "df_std = diff.rolling(12, center=True, closed='both').std()\n",
    "df_std.plot(title='Moving Average')\n",
    "diff.plot(title='Moving Average')"
   ]
  },
  {
   "cell_type": "code",
   "execution_count": null,
   "metadata": {},
   "outputs": [],
   "source": [
    "#seasonality\n",
    "from statsmodels.tsa.seasonal import seasonal_decompose\n",
    "import matplotlib.pylab as plt\n",
    "\n",
    "diff.dropna(inplace=True)\n",
    "decomposition = seasonal_decompose(diff)\n",
    "\n",
    "trend = decomposition.trend\n",
    "seasonal = decomposition.seasonal\n",
    "residual = decomposition.resid\n",
    "\n",
    "plt.plot(diff,label='Original')\n",
    "plt.legend(loc='best')\n",
    "plt.plot(trend,label='Trend')\n",
    "plt.legend(loc='best')\n",
    "plt.plot(seasonal,label='Seasonal')\n",
    "plt.legend(loc='best')\n",
    "plt.plot(residual,label='Residual')\n",
    "plt.legend(loc='best')"
   ]
  },
  {
   "cell_type": "code",
   "execution_count": null,
   "metadata": {},
   "outputs": [],
   "source": [
    "#let's try to predict now\n",
    "from statsmodels.tsa.arima_model import ARIMA\n",
    "\n",
    "diff_trend = diff-trend\n",
    "diff_trend.dropna(inplace=True)\n",
    "\n",
    "model = ARIMA(diff_trend,order=(1,1,0))\n",
    "results_AR = model.fit(disp=-1)\n",
    "\n",
    "plt.plot(diff_trend,label='Original')\n",
    "plt.legend(loc='best')\n",
    "plt.plot(results_AR.fittedvalues,label='fit')\n",
    "plt.legend(loc='best')\n",
    "plt.title('RSS: %.4f'% sum((results_AR.fittedvalues-diff_trend)**2))"
   ]
  },
  {
   "cell_type": "code",
   "execution_count": null,
   "metadata": {},
   "outputs": [],
   "source": [
    "model = ARIMA(diff_trend,order=(0,1,2))\n",
    "results_MA = model.fit(disp=0)\n",
    "\n",
    "plt.plot(diff_trend,label='Original')\n",
    "plt.legend(loc='best')\n",
    "plt.plot(results_MA.fittedvalues,label='fit')\n",
    "plt.legend(loc='best')\n",
    "plt.title('RSS: %.4f'% sum((results_MA.fittedvalues-diff_trend)))"
   ]
  },
  {
   "cell_type": "code",
   "execution_count": null,
   "metadata": {},
   "outputs": [],
   "source": [
    "#we can plot the predictions and extrapolate to the future\n",
    "predictions_ARIMA_diff = pd.Series(results_MA.fittedvalues,copy=True)\n",
    "plt.plot(predictions_ARIMA_diff,label='Fit')\n",
    "\n",
    "#how to extrapolate to the future?\n",
    "date_rng = pd.date_range(start='1952-01-01', end='1958-01-01', freq='D')\n",
    "\n",
    "output = results_MA.forecast()\n",
    "print(output)\n",
    "\n",
    "\n",
    "#create a time series from a random generation\n",
    "#df = pd.DataFrame(date_rng, columns=['date'])\n",
    "#df['data'] = np.random.randint(0,100,size=(len(date_rng)))"
   ]
  }
 ],
 "metadata": {
  "kernelspec": {
   "display_name": "Python 3",
   "language": "python",
   "name": "python3"
  },
  "language_info": {
   "codemirror_mode": {
    "name": "ipython",
    "version": 3
   },
   "file_extension": ".py",
   "mimetype": "text/x-python",
   "name": "python",
   "nbconvert_exporter": "python",
   "pygments_lexer": "ipython3",
   "version": "3.6.4"
  }
 },
 "nbformat": 4,
 "nbformat_minor": 2
}
