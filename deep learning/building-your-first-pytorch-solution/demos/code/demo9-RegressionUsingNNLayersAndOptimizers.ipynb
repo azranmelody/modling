{
 "cells": [
  {
   "cell_type": "code",
   "execution_count": 1,
   "metadata": {},
   "outputs": [],
   "source": [
    "import torch\n",
    "import numpy as np \n",
    "import matplotlib.pyplot as plt"
   ]
  },
  {
   "cell_type": "code",
   "execution_count": 2,
   "metadata": {},
   "outputs": [],
   "source": [
    "x_train = np.array ([[4.7], [2.4], [7.5], [7.1], [4.3], \n",
    "                     [7.8], [8.9], [5.2], [4.59], [2.1], \n",
    "                     [8], [5], [7.5], [5], [4],\n",
    "                     [8], [5.2], [4.9], [3], [4.7], \n",
    "                     [4], [4.8], [3.5], [2.1], [4.1]],\n",
    "                    dtype = np.float32)\n",
    "\n",
    "y_train = np.array ([[2.6], [1.6], [3.09], [2.4], [2.4], \n",
    "                     [3.3], [2.6], [1.96], [3.13], [1.76], \n",
    "                     [3.2], [2.1], [1.6], [2.5], [2.2], \n",
    "                     [2.75], [2.4], [1.8], [1], [2], \n",
    "                     [1.6], [2.4], [2.6], [1.5], [3.1]], \n",
    "                    dtype = np.float32)"
   ]
  },
  {
   "cell_type": "code",
   "execution_count": 3,
   "metadata": {},
   "outputs": [
    {
     "data": {
      "image/png": "[encoded data removed]",
      "text/plain": [
       "<Figure size 576x576 with 1 Axes>"
      ]
     },
     "metadata": {
      "needs_background": "light"
     },
     "output_type": "display_data"
    }
   ],
   "source": [
    "plt.figure(figsize=(8,8))\n",
    "\n",
    "plt.scatter(x_train, y_train, c='green', s=250, label='Original data')\n",
    "\n",
    "plt.show()"
   ]
  },
  {
   "cell_type": "code",
   "execution_count": 4,
   "metadata": {},
   "outputs": [],
   "source": [
    "x = torch.from_numpy(x_train) \n",
    "y = torch.from_numpy(y_train)"
   ]
  },
  {
   "cell_type": "code",
   "execution_count": 5,
   "metadata": {},
   "outputs": [
    {
     "data": {
      "text/plain": [
       "torch.Size([25, 1])"
      ]
     },
     "execution_count": 5,
     "metadata": {},
     "output_type": "execute_result"
    }
   ],
   "source": [
    "x.size()"
   ]
  },
  {
   "cell_type": "markdown",
   "metadata": {},
   "source": [
    "- inp - input dimension\n",
    "- hidden - hidden dimension\n",
    "- out - output dimension"
   ]
  },
  {
   "cell_type": "code",
   "execution_count": 7,
   "metadata": {},
   "outputs": [],
   "source": [
    "inp = 1\n",
    "hidden = 5\n",
    "out = 1"
   ]
  },
  {
   "cell_type": "markdown",
   "metadata": {},
   "source": [
    "#### Creating model using nn.Sequential()\n",
    "\n",
    "- Use the nn package to define our model as a sequence of layers. \n",
    "- nn.Sequential s a Module which contains other Modules, and applies them in sequence to produce its output https://pytorch.org/docs/0.3.1/nn.html#sequential.\n",
    "- Each Linear Module computes output from input using a linear function, and holds internal Tensors for its weight and bias https://pytorch.org/docs/stable/_modules/torch/nn/modules/linear.html."
   ]
  },
  {
   "cell_type": "code",
   "execution_count": 8,
   "metadata": {},
   "outputs": [],
   "source": [
    "model = torch.nn.Sequential(\n",
    "        torch.nn.Linear(inp, hidden),\n",
    "        torch.nn.ReLU(),\n",
    "        torch.nn.Linear(hidden, out))"
   ]
  },
  {
   "cell_type": "markdown",
   "metadata": {},
   "source": [
    "the nn package also contains definitions of popular loss functions; in thiscase we will use <b>Mean Squared Error (MSE) </b> as our loss function."
   ]
  },
  {
   "cell_type": "code",
   "execution_count": 9,
   "metadata": {},
   "outputs": [],
   "source": [
    "loss_fn = torch.nn.MSELoss(reduction='sum')"
   ]
  },
  {
   "cell_type": "markdown",
   "metadata": {},
   "source": [
    "- Forward pass:  \n",
    "compute predicted y by passing x to the model. Module objects override the __call__ operator so you can call them like functions. When doing so you pass a Tensor of input data to the Module and it produces a Tensor of output data.\n",
    "\n",
    "\n",
    "- loss:\n",
    "We pass Tensors containing the predicted and true values of y, and the loss function returns a Tensor containing the loss.\n",
    "\n",
    "\n",
    "- model.zero_grad():\n",
    "Zero the gradients before running the backward pass\n",
    "\n",
    "\n",
    "- Backward pass: \n",
    "compute gradient of the loss with respect to all the learnable parameters of the model. Internally, the parameters of each Module are stored in Tensors with requires_grad=True, so this call will compute gradients for\n",
    "all learnable parameters in the model\n",
    "\n",
    "\n",
    "- update the weights manually using gradient descent. Each parameter is a Tensor, so we can access its gradients like we did before."
   ]
  },
  {
   "cell_type": "code",
   "execution_count": 12,
   "metadata": {},
   "outputs": [
    {
     "name": "stdout",
     "output_type": "stream",
     "text": [
      "0 6.133114814758301\n",
      "<generator object Module.parameters at 0x00000169D41D6570>\n",
      "50 6.126639366149902\n",
      "<generator object Module.parameters at 0x00000169D41D6570>\n",
      "100 6.121129989624023\n",
      "<generator object Module.parameters at 0x00000169D41D6570>\n",
      "150 6.11637020111084\n",
      "<generator object Module.parameters at 0x00000169D41D6570>\n",
      "200 6.1121907234191895\n",
      "<generator object Module.parameters at 0x00000169D41D6570>\n",
      "250 6.108445167541504\n",
      "<generator object Module.parameters at 0x00000169D41D6570>\n",
      "300 6.105017185211182\n",
      "<generator object Module.parameters at 0x00000169D41D6570>\n",
      "350 6.101813316345215\n",
      "<generator object Module.parameters at 0x00000169D41D6570>\n",
      "400 6.09874963760376\n",
      "<generator object Module.parameters at 0x00000169D41D6570>\n",
      "450 6.095760822296143\n",
      "<generator object Module.parameters at 0x00000169EDCB0570>\n"
     ]
    }
   ],
   "source": [
    "learning_rate = 1e-4\n",
    "\n",
    "for i in range(500):\n",
    "    \n",
    "    y_pred = model(x)\n",
    "\n",
    "    loss = loss_fn(y_pred, y)\n",
    "    if(i%50==0):\n",
    "        print(i, loss.item())\n",
    "        print(model.parameters())\n",
    "    \n",
    "    model.zero_grad()\n",
    "    loss.backward()\n",
    "    \n",
    "    with torch.no_grad():\n",
    "        for param in model.parameters():\n",
    "            param -= learning_rate * param.grad"
   ]
  },
  {
   "cell_type": "code",
   "execution_count": 13,
   "metadata": {},
   "outputs": [
    {
     "data": {
      "text/plain": [
       "tensor([[2.2265],\n",
       "        [1.8044],\n",
       "        [2.7218],\n",
       "        [2.6510],\n",
       "        [2.1557],\n",
       "        [2.7749],\n",
       "        [2.9695],\n",
       "        [2.3149],\n",
       "        [2.2070],\n",
       "        [1.7467],\n",
       "        [2.8103],\n",
       "        [2.2795],\n",
       "        [2.7218],\n",
       "        [2.2795],\n",
       "        [2.1026],\n",
       "        [2.8103],\n",
       "        [2.3149],\n",
       "        [2.2618],\n",
       "        [1.9198],\n",
       "        [2.2265],\n",
       "        [2.1026],\n",
       "        [2.2442],\n",
       "        [2.0142],\n",
       "        [1.7467],\n",
       "        [2.1203]], grad_fn=<AddmmBackward>)"
      ]
     },
     "execution_count": 13,
     "metadata": {},
     "output_type": "execute_result"
    }
   ],
   "source": [
    "predicted_in_tensor = model(x)\n",
    "predicted_in_tensor"
   ]
  },
  {
   "cell_type": "code",
   "execution_count": 14,
   "metadata": {},
   "outputs": [
    {
     "data": {
      "text/plain": [
       "array([[2.2264628],\n",
       "       [1.8043973],\n",
       "       [2.7218013],\n",
       "       [2.6510386],\n",
       "       [2.1557002],\n",
       "       [2.774873 ],\n",
       "       [2.96947  ],\n",
       "       [2.3149164],\n",
       "       [2.2070034],\n",
       "       [1.746702 ],\n",
       "       [2.8102543],\n",
       "       [2.2795348],\n",
       "       [2.7218013],\n",
       "       [2.2795348],\n",
       "       [2.1026285],\n",
       "       [2.8102543],\n",
       "       [2.3149164],\n",
       "       [2.2618444],\n",
       "       [1.9197882],\n",
       "       [2.2264628],\n",
       "       [2.1026285],\n",
       "       [2.2441535],\n",
       "       [2.0141752],\n",
       "       [1.746702 ],\n",
       "       [2.1203191]], dtype=float32)"
      ]
     },
     "execution_count": 14,
     "metadata": {},
     "output_type": "execute_result"
    }
   ],
   "source": [
    "predicted = predicted_in_tensor.detach().numpy()\n",
    "predicted"
   ]
  },
  {
   "cell_type": "markdown",
   "metadata": {},
   "source": [
    "#### Plotting\n",
    "Our training has produced a rather accurate regression line"
   ]
  },
  {
   "cell_type": "code",
   "execution_count": 21,
   "metadata": {},
   "outputs": [
    {
     "data": {
      "image/png": "[encoded data removed]",
      "text/plain": [
       "<Figure size 576x576 with 1 Axes>"
      ]
     },
     "metadata": {
      "needs_background": "light"
     },
     "output_type": "display_data"
    }
   ],
   "source": [
    "plt.figure(figsize=(8,8))\n",
    "\n",
    "plt.scatter(x_train, y_train, c='green', s=250, label='Original data')\n",
    "\n",
    "plt.plot(x_train[:4], predicted[:4], label = 'Fitted line ')\n",
    "\n",
    "plt.legend() \n",
    "\n",
    "plt.show()"
   ]
  },
  {
   "cell_type": "code",
   "execution_count": null,
   "metadata": {},
   "outputs": [],
   "source": []
  },
  {
   "cell_type": "code",
   "execution_count": null,
   "metadata": {},
   "outputs": [],
   "source": []
  },
  {
   "cell_type": "code",
   "execution_count": null,
   "metadata": {},
   "outputs": [],
   "source": []
  },
  {
   "cell_type": "markdown",
   "metadata": {},
   "source": [
    "Up to this point we have updated the weights of our models by manually mutating the Tensors holding learnable parameters (with torch.no_grad() or .data to avoid tracking history in autograd)."
   ]
  },
  {
   "cell_type": "markdown",
   "metadata": {},
   "source": [
    "#### The optim package in PyTorch abstracts the idea of an optimization algorithm and provides implementations of commonly used optimization algorithms."
   ]
  },
  {
   "cell_type": "markdown",
   "metadata": {},
   "source": [
    "Use the nn package to define our model and loss function"
   ]
  },
  {
   "cell_type": "code",
   "execution_count": 22,
   "metadata": {},
   "outputs": [],
   "source": [
    "model = torch.nn.Sequential(\n",
    "        torch.nn.Linear(inp, hidden),\n",
    "        torch.nn.ReLU(),\n",
    "        torch.nn.Linear(hidden, out))\n",
    "\n",
    "loss_fn = torch.nn.MSELoss(reduction='sum')"
   ]
  },
  {
   "cell_type": "markdown",
   "metadata": {},
   "source": [
    "- Use the optim package to define an Optimizer that will update the weights of the model for us\n",
    "- Here we will use SGD;the optim package contains many other optimization algorithms.\n",
    "- The first argument to the SGD constructor tells the optimizer which Tensors it should update."
   ]
  },
  {
   "cell_type": "markdown",
   "metadata": {},
   "source": [
    "Before the backward pass, use the optimizer object to zero all of the gradients for the variables it will update (which are the learnable weights of the model). This is because by default, gradients are accumulated in buffers( i.e, not overwritten) whenever .backward() is called.\n",
    "\n",
    "Calling the step function on an Optimizer makes an update to its parameters"
   ]
  },
  {
   "cell_type": "code",
   "execution_count": 24,
   "metadata": {},
   "outputs": [
    {
     "name": "stdout",
     "output_type": "stream",
     "text": [
      "0 8.702994346618652\n",
      "50 8.51904582977295\n",
      "100 8.347902297973633\n",
      "150 8.195100784301758\n",
      "200 8.054549217224121\n",
      "250 7.922418117523193\n",
      "300 7.798224925994873\n",
      "350 7.681527137756348\n",
      "400 7.571909427642822\n",
      "450 7.4689860343933105\n"
     ]
    }
   ],
   "source": [
    "learning_rate = 1e-4\n",
    "\n",
    "optimizer = torch.optim.SGD(model.parameters(), lr=learning_rate)\n",
    "\n",
    "for i in range(500):\n",
    "    \n",
    "    y_pred = model(x)\n",
    "\n",
    "    loss = loss_fn(y_pred, y)\n",
    "    if(i%50==0):\n",
    "        print(i, loss.item())\n",
    "    \n",
    "    optimizer.zero_grad()\n",
    "    \n",
    "    loss.backward()\n",
    "    \n",
    "    optimizer.step()"
   ]
  },
  {
   "cell_type": "markdown",
   "metadata": {},
   "source": [
    "#### Get the predicted values"
   ]
  },
  {
   "cell_type": "code",
   "execution_count": 25,
   "metadata": {},
   "outputs": [
    {
     "data": {
      "text/plain": [
       "tensor([[2.1104],\n",
       "        [1.4509],\n",
       "        [2.9133],\n",
       "        [2.7986],\n",
       "        [1.9957],\n",
       "        [2.9993],\n",
       "        [3.3147],\n",
       "        [2.2538],\n",
       "        [2.0789],\n",
       "        [1.3649],\n",
       "        [3.0566],\n",
       "        [2.1964],\n",
       "        [2.9133],\n",
       "        [2.1964],\n",
       "        [1.9097],\n",
       "        [3.0566],\n",
       "        [2.2538],\n",
       "        [2.1678],\n",
       "        [1.6230],\n",
       "        [2.1104],\n",
       "        [1.9097],\n",
       "        [2.1391],\n",
       "        [1.7663],\n",
       "        [1.3649],\n",
       "        [1.9384]], grad_fn=<AddmmBackward>)"
      ]
     },
     "execution_count": 25,
     "metadata": {},
     "output_type": "execute_result"
    }
   ],
   "source": [
    "predicted_in_tensor = model(x)\n",
    "predicted_in_tensor"
   ]
  },
  {
   "cell_type": "markdown",
   "metadata": {},
   "source": [
    "#### Convert the prediction to a numpy array\n",
    "This will be used to plot the regression line in a plot"
   ]
  },
  {
   "cell_type": "code",
   "execution_count": 26,
   "metadata": {},
   "outputs": [
    {
     "data": {
      "text/plain": [
       "array([[2.11041  ],\n",
       "       [1.4509299],\n",
       "       [2.9132557],\n",
       "       [2.7985632],\n",
       "       [1.9957179],\n",
       "       [2.9992747],\n",
       "       [3.3146784],\n",
       "       [2.2537754],\n",
       "       [2.07887  ],\n",
       "       [1.3649106],\n",
       "       [3.056621 ],\n",
       "       [2.1964293],\n",
       "       [2.9132557],\n",
       "       [2.1964293],\n",
       "       [1.9096987],\n",
       "       [3.056621 ],\n",
       "       [2.2537754],\n",
       "       [2.1677563],\n",
       "       [1.6229682],\n",
       "       [2.11041  ],\n",
       "       [1.9096987],\n",
       "       [2.1390834],\n",
       "       [1.7663335],\n",
       "       [1.3649106],\n",
       "       [1.9383717]], dtype=float32)"
      ]
     },
     "execution_count": 26,
     "metadata": {},
     "output_type": "execute_result"
    }
   ],
   "source": [
    "predicted = predicted_in_tensor.detach().numpy()\n",
    "predicted"
   ]
  },
  {
   "cell_type": "code",
   "execution_count": 34,
   "metadata": {},
   "outputs": [
    {
     "data": {
      "image/png": "[encoded data removed]",
      "text/plain": [
       "<Figure size 576x576 with 1 Axes>"
      ]
     },
     "metadata": {
      "needs_background": "light"
     },
     "output_type": "display_data"
    }
   ],
   "source": [
    "plt.figure(figsize=(8,8))\n",
    "\n",
    "plt.scatter(x_train, y_train, c='green', s=250, label='Original data')\n",
    "\n",
    "plt.plot(x_train[:3], predicted[:3], label = 'Fitted line ')\n",
    "\n",
    "plt.legend() \n",
    "\n",
    "plt.show()"
   ]
  },
  {
   "cell_type": "code",
   "execution_count": 33,
   "metadata": {},
   "outputs": [
    {
     "data": {
      "text/plain": [
       "(array([[4.7],\n",
       "        [2.4],\n",
       "        [7.5]], dtype=float32),\n",
       " array([[2.11041  ],\n",
       "        [1.4509299],\n",
       "        [2.9132557]], dtype=float32))"
      ]
     },
     "execution_count": 33,
     "metadata": {},
     "output_type": "execute_result"
    }
   ],
   "source": [
    "x_train[:3], predicted[:3]"
   ]
  },
  {
   "cell_type": "code",
   "execution_count": null,
   "metadata": {},
   "outputs": [],
   "source": []
  },
  {
   "cell_type": "code",
   "execution_count": null,
   "metadata": {},
   "outputs": [],
   "source": []
  },
  {
   "cell_type": "code",
   "execution_count": null,
   "metadata": {},
   "outputs": [],
   "source": []
  },
  {
   "cell_type": "code",
   "execution_count": null,
   "metadata": {},
   "outputs": [],
   "source": []
  },
  {
   "cell_type": "code",
   "execution_count": null,
   "metadata": {},
   "outputs": [],
   "source": []
  },
  {
   "cell_type": "code",
   "execution_count": null,
   "metadata": {},
   "outputs": [],
   "source": []
  },
  {
   "cell_type": "code",
   "execution_count": null,
   "metadata": {},
   "outputs": [],
   "source": []
  }
 ],
 "metadata": {
  "kernelspec": {
   "display_name": "tensorflow_cpu_env",
   "language": "python",
   "name": "tensorflow_cpu_env"
  },
  "language_info": {
   "codemirror_mode": {
    "name": "ipython",
    "version": 3
   },
   "file_extension": ".py",
   "mimetype": "text/x-python",
   "name": "python",
   "nbconvert_exporter": "python",
   "pygments_lexer": "ipython3",
   "version": "3.6.10"
  }
 },
 "nbformat": 4,
 "nbformat_minor": 4
}
