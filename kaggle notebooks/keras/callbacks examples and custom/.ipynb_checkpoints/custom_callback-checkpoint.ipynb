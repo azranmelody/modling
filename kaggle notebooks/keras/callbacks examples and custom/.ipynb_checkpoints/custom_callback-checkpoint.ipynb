{
 "cells": [
  {
   "cell_type": "markdown",
   "metadata": {
    "colab_type": "text",
    "id": "597OjogAI3fy"
   },
   "source": [
    "##### Copyright 2019 The TensorFlow Authors."
   ]
  },
  {
   "cell_type": "code",
   "execution_count": 1,
   "metadata": {
    "cellView": "form",
    "colab": {},
    "colab_type": "code",
    "id": "5bSCD8SyJC2g"
   },
   "outputs": [],
   "source": [
    "#@title Licensed under the Apache License, Version 2.0 (the \"License\");\n",
    "# you may not use this file except in compliance with the License.\n",
    "# You may obtain a copy of the License at\n",
    "#\n",
    "# https://www.apache.org/licenses/LICENSE-2.0\n",
    "#\n",
    "# Unless required by applicable law or agreed to in writing, software\n",
    "# distributed under the License is distributed on an \"AS IS\" BASIS,\n",
    "# WITHOUT WARRANTIES OR CONDITIONS OF ANY KIND, either express or implied.\n",
    "# See the License for the specific language governing permissions and\n",
    "# limitations under the License."
   ]
  },
  {
   "cell_type": "markdown",
   "metadata": {
    "colab_type": "text",
    "id": "E_ceEiH7g0MY"
   },
   "source": [
    "<table class=\"tfo-notebook-buttons\" align=\"left\">\n",
    "  <td>\n",
    "    <a target=\"_blank\" href=\"https://www.tensorflow.org/guide/keras/custom_callback\"><img src=\"https://www.tensorflow.org/images/tf_logo_32px.png\" />View on TensorFlow.org</a>\n",
    "  </td>\n",
    "  <td>\n",
    "    <a target=\"_blank\" href=\"https://colab.research.google.com/github/tensorflow/docs/blob/master/site/en/guide/keras/custom_callback.ipynb\"><img src=\"https://www.tensorflow.org/images/colab_logo_32px.png\" />Run in Google Colab</a>\n",
    "  </td>\n",
    "  <td>\n",
    "    <a target=\"_blank\" href=\"https://github.com/tensorflow/docs/blob/master/site/en/guide/keras/custom_callback.ipynb\"><img src=\"https://www.tensorflow.org/images/GitHub-Mark-32px.png\" />View source on GitHub</a>\n",
    "  </td>\n",
    "  <td>\n",
    "    <a href=\"https://storage.googleapis.com/tensorflow_docs/docs/site/en/guide/keras/custom_callback.ipynb\"><img src=\"https://www.tensorflow.org/images/download_logo_32px.png\" />Download notebook</a>\n",
    "  </td>\n",
    "</table>"
   ]
  },
  {
   "cell_type": "markdown",
   "metadata": {
    "colab_type": "text",
    "id": "1OykC-6lI4gv"
   },
   "source": [
    "# Keras custom callbacks\n",
    "A custom callback is a powerful tool to customize the behavior of a Keras model during training, evaluation, or inference, including reading/changing the Keras model. Examples include `tf.keras.callbacks.TensorBoard` where the training progress and results can be exported and visualized with TensorBoard, or `tf.keras.callbacks.ModelCheckpoint` where the model is automatically saved during training, and more. In this guide, you will learn what Keras callback is, when it will be called, what it can do, and how you can build your own. Towards the end of this guide, there will be demos of creating a couple of simple callback applications to get you started on your custom callback."
   ]
  },
  {
   "cell_type": "markdown",
   "metadata": {
    "colab_type": "text",
    "id": "d5zZ8rZD69VW"
   },
   "source": [
    "## Setup"
   ]
  },
  {
   "cell_type": "code",
   "execution_count": 2,
   "metadata": {
    "colab": {},
    "colab_type": "code",
    "id": "7BazS4qD6-2n"
   },
   "outputs": [
    {
     "name": "stderr",
     "output_type": "stream",
     "text": [
      "C:\\Users\\Melody\\Anaconda3\\lib\\site-packages\\h5py\\__init__.py:36: FutureWarning: Conversion of the second argument of issubdtype from `float` to `np.floating` is deprecated. In future, it will be treated as `np.float64 == np.dtype(float).type`.\n",
      "  from ._conv import register_converters as _register_converters\n"
     ]
    }
   ],
   "source": [
    "import tensorflow as tf"
   ]
  },
  {
   "cell_type": "markdown",
   "metadata": {
    "colab_type": "text",
    "id": "0c_TYhQOUe1j"
   },
   "source": [
    "## Introduction to Keras callbacks\n",
    "In Keras, `Callback` is a python class meant to be subclassed to provide specific functionality, with a set of methods called at various stages of training (including batch/epoch start and ends), testing, and predicting. Callbacks are useful to get a view on internal states and statistics of the model during training. You can pass a list of callbacks (as the keyword argument `callbacks`) to any of `tf.keras.Model.fit()`, `tf.keras.Model.evaluate()`, and `tf.keras.Model.predict()` methods. The methods of the callbacks will then be called at different stages of training/evaluating/inference.\n",
    "\n",
    "To get started, let's import tensorflow and define a simple Sequential Keras model:"
   ]
  },
  {
   "cell_type": "code",
   "execution_count": 3,
   "metadata": {
    "colab": {},
    "colab_type": "code",
    "id": "Ct0VCSI2dt3a"
   },
   "outputs": [],
   "source": [
    "# Define the Keras model to add callbacks to\n",
    "def get_model():\n",
    "    model = tf.keras.Sequential()\n",
    "    model.add(tf.keras.layers.Dense(1, activation = 'linear', input_dim = 784))\n",
    "    model.compile(optimizer=tf.keras.optimizers.RMSprop(lr=0.1), loss='mean_squared_error', metrics=['mae'])\n",
    "    return model"
   ]
  },
  {
   "cell_type": "markdown",
   "metadata": {
    "colab_type": "text",
    "id": "ySzdG1IqNgah"
   },
   "source": [
    "Then, load the MNIST data for training and testing from Keras datasets API:"
   ]
  },
  {
   "cell_type": "code",
   "execution_count": 4,
   "metadata": {
    "colab": {},
    "colab_type": "code",
    "id": "fwo9LMKGNPWr"
   },
   "outputs": [],
   "source": [
    "# Load example MNIST data and pre-process it\n",
    "(x_train, y_train), (x_test, y_test) = tf.keras.datasets.mnist.load_data()\n",
    "x_train = x_train.reshape(60000, 784).astype('float32') / 255\n",
    "x_test = x_test.reshape(10000, 784).astype('float32') / 255"
   ]
  },
  {
   "cell_type": "markdown",
   "metadata": {
    "colab_type": "text",
    "id": "kHVK7kceNqH2"
   },
   "source": [
    "Now, define a simple custom callback to track the start and end of every batch of data. During those calls, it prints the index of the current batch."
   ]
  },
  {
   "cell_type": "code",
   "execution_count": 5,
   "metadata": {
    "colab": {},
    "colab_type": "code",
    "id": "-dfuGTMINKRR"
   },
   "outputs": [],
   "source": [
    "import datetime\n",
    "\n",
    "class MyCustomCallback(tf.keras.callbacks.Callback):\n",
    "\n",
    "    def on_train_batch_begin(self, batch, logs=None):\n",
    "        print('Training: batch {} begins at {}'.format(batch, datetime.datetime.now().time()))\n",
    "\n",
    "    def on_train_batch_end(self, batch, logs=None):\n",
    "        print('Training: batch {} ends at {}'.format(batch, datetime.datetime.now().time()))\n",
    "\n",
    "    def on_test_batch_begin(self, batch, logs=None):\n",
    "        print('Evaluating: batch {} begins at {}'.format(batch, datetime.datetime.now().time()))\n",
    "\n",
    "    def on_test_batch_end(self, batch, logs=None):\n",
    "        print('Evaluating: batch {} ends at {}'.format(batch, datetime.datetime.now().time()))"
   ]
  },
  {
   "cell_type": "markdown",
   "metadata": {
    "colab_type": "text",
    "id": "Z4FTUUIBN3WG"
   },
   "source": [
    "Providing a callback to model methods such as `tf.keras.Model.fit()` ensures the methods are called at those stages:"
   ]
  },
  {
   "cell_type": "code",
   "execution_count": 9,
   "metadata": {
    "colab": {},
    "colab_type": "code",
    "id": "NJV6Tj3sNGzg"
   },
   "outputs": [
    {
     "name": "stdout",
     "output_type": "stream",
     "text": [
      "Training: batch 0 begins at 10:18:27.570186\n",
      "Training: batch 0 ends at 10:18:27.750879\n",
      "Training: batch 1 begins at 10:18:27.750879\n",
      "Training: batch 1 ends at 10:18:27.800540\n",
      "Training: batch 2 begins at 10:18:27.800540\n",
      "Training: batch 2 ends at 10:18:27.849666\n",
      "Training: batch 3 begins at 10:18:27.849666\n",
      "Training: batch 3 ends at 10:18:27.895737\n",
      "Training: batch 4 begins at 10:18:27.896739\n",
      "Training: batch 4 ends at 10:18:27.943075\n",
      "Training: batch 0 begins at 10:18:27.943075\n",
      "Training: batch 0 ends at 10:18:27.989461\n",
      "Training: batch 1 begins at 10:18:27.993606\n",
      "Training: batch 1 ends at 10:18:28.043752\n",
      "Training: batch 2 begins at 10:18:28.043752\n",
      "Training: batch 2 ends at 10:18:28.090689\n",
      "Training: batch 3 begins at 10:18:28.094774\n",
      "Training: batch 3 ends at 10:18:28.142494\n",
      "Training: batch 4 begins at 10:18:28.142494\n",
      "Training: batch 4 ends at 10:18:28.187691\n"
     ]
    }
   ],
   "source": [
    "model = get_model()\n",
    "_ = model.fit(x_train, y_train,\n",
    "          batch_size=64,\n",
    "          epochs=1,\n",
    "          steps_per_epoch=5,\n",
    "          verbose=0,\n",
    "          callbacks=[MyCustomCallback()])"
   ]
  },
  {
   "cell_type": "markdown",
   "metadata": {
    "colab_type": "text",
    "id": "fIy5JKMlZNmh"
   },
   "source": [
    "## Model methods that take callbacks\n",
    "Users can supply a list of callbacks to the following `tf.keras.Model` methods:\n",
    "#### [`fit()`](https://www.tensorflow.org/api_docs/python/tf/keras/Model#fit), [`fit_generator()`](https://www.tensorflow.org/api_docs/python/tf/keras/Model#fit_generator)\n",
    "Trains the model for a fixed number of epochs (iterations over a dataset, or data yielded batch-by-batch by a Python generator).\n",
    "#### [`evaluate()`](https://www.tensorflow.org/api_docs/python/tf/keras/Model#evaluate), [`evaluate_generator()`](https://www.tensorflow.org/api_docs/python/tf/keras/Model#evaluate_generator)\n",
    "Evaluates the model for given data or data generator. Outputs the loss and metric values from the evaluation.\n",
    "#### [`predict()`](https://www.tensorflow.org/api_docs/python/tf/keras/Model#predict), [`predict_generator()`](https://www.tensorflow.org/api_docs/python/tf/keras/Model#predict_generator)\n",
    "Generates output predictions for the input data or data generator.\n"
   ]
  },
  {
   "cell_type": "code",
   "execution_count": 10,
   "metadata": {
    "colab": {},
    "colab_type": "code",
    "id": "J00bXBbqdnJe"
   },
   "outputs": [
    {
     "name": "stdout",
     "output_type": "stream",
     "text": [
      "Evaluating: batch 0 begins at 10:20:29.010647\n",
      "Evaluating: batch 0 ends at 10:20:29.049856\n",
      "Evaluating: batch 1 begins at 10:20:29.049856\n",
      "Evaluating: batch 1 ends at 10:20:29.055550\n",
      "Evaluating: batch 2 begins at 10:20:29.055550\n",
      "Evaluating: batch 2 ends at 10:20:29.058150\n",
      "Evaluating: batch 3 begins at 10:20:29.058150\n",
      "Evaluating: batch 3 ends at 10:20:29.063496\n",
      "Evaluating: batch 4 begins at 10:20:29.063496\n",
      "Evaluating: batch 4 ends at 10:20:29.070890\n"
     ]
    }
   ],
   "source": [
    "_ = model.evaluate(x_test, y_test, batch_size=128, verbose=0, steps=5,\n",
    "          callbacks=[MyCustomCallback()])"
   ]
  },
  {
   "cell_type": "markdown",
   "metadata": {
    "colab_type": "text",
    "id": "13n44LVkYQsV"
   },
   "source": [
    "## An overview of callback methods\n",
    "\n",
    "\n",
    "### Common methods for training/testing/predicting\n",
    "For training, testing, and predicting, following methods are provided to be overridden.\n",
    "#### `on_(train|test|predict)_begin(self, logs=None)`\n",
    "Called at the beginning of `fit`/`evaluate`/`predict`.\n",
    "#### `on_(train|test|predict)_end(self, logs=None)`\n",
    "Called at the end of `fit`/`evaluate`/`predict`.\n",
    "#### `on_(train|test|predict)_batch_begin(self, batch, logs=None)`\n",
    "Called right before processing a batch during training/testing/predicting. Within this method, `logs` is a dict with `batch` and `size` available keys, representing the current batch number and the size of the batch.\n",
    "#### `on_(train|test|predict)_batch_end(self, batch, logs=None)`\n",
    "Called at the end of training/testing/predicting a batch. Within this method, `logs` is a dict containing the stateful metrics result.\n",
    "\n",
    "### Training specific methods\n",
    "In addition, for training, following are provided.\n",
    "#### on_epoch_begin(self, epoch, logs=None)\n",
    "Called at the beginning of an epoch during training.\n",
    "#### on_epoch_end(self, epoch, logs=None)\n",
    "Called at the end of an epoch during training.\n"
   ]
  },
  {
   "cell_type": "markdown",
   "metadata": {
    "colab_type": "text",
    "id": "SWf3mXYoceCz"
   },
   "source": [
    "### Usage of `logs` dict\n",
    "The `logs` dict contains the loss value, and all the metrics at the end of a batch or epoch. Example includes the loss and mean absolute error."
   ]
  },
  {
   "cell_type": "code",
   "execution_count": 15,
   "metadata": {
    "colab": {},
    "colab_type": "code",
    "id": "u4wIdcF9BjJH"
   },
   "outputs": [
    {
     "name": "stdout",
     "output_type": "stream",
     "text": [
      "For batch 0, loss is   32.72.\n",
      "For batch 1, loss is  894.47.\n",
      "For batch 2, loss is   28.78.\n",
      "For batch 3, loss is    9.19.\n",
      "For batch 4, loss is    7.37.\n",
      "The average loss for epoch 0 is  194.51 and mean absolute error is    8.41.\n",
      "{'loss': 194.5066930770874, 'mean_absolute_error': 8.407329}\n",
      "For batch 0, loss is    6.50.\n",
      "For batch 1, loss is    5.92.\n",
      "For batch 2, loss is    5.51.\n",
      "For batch 3, loss is    5.23.\n",
      "For batch 4, loss is    5.02.\n",
      "The average loss for epoch 1 is    5.64 and mean absolute error is    1.99.\n",
      "{'loss': 5.635849094390869, 'mean_absolute_error': 1.9933155}\n",
      "For batch 0, loss is    4.86.\n",
      "For batch 1, loss is    4.74.\n",
      "For batch 2, loss is    4.64.\n",
      "For batch 3, loss is    4.56.\n",
      "For batch 4, loss is    4.48.\n",
      "The average loss for epoch 2 is    4.66 and mean absolute error is    1.77.\n",
      "{'loss': 4.657289314270019, 'mean_absolute_error': 1.7684387}\n"
     ]
    }
   ],
   "source": [
    "class LossAndErrorPrintingCallback(tf.keras.callbacks.Callback):\n",
    "\n",
    "    def on_train_batch_end(self, batch, logs=None):\n",
    "        print('For batch {}, loss is {:7.2f}.'.format(batch, logs['loss']))\n",
    "\n",
    "    def on_test_batch_end(self, batch, logs=None):\n",
    "        print('For batch {}, loss is {:7.2f}.'.format(batch, logs['loss']))\n",
    "\n",
    "    def on_epoch_end(self, epoch, logs=None):\n",
    "        print('The average loss for epoch {} is {:7.2f} and mean absolute error is {:7.2f}.'.format(epoch, logs['loss'], logs['mean_absolute_error']))\n",
    "        print(logs)\n",
    "model = get_model()\n",
    "_ = model.fit(x_train, y_train,\n",
    "          batch_size=64,\n",
    "          steps_per_epoch=5,\n",
    "          epochs=3,\n",
    "          verbose=0,\n",
    "          callbacks=[LossAndErrorPrintingCallback()])"
   ]
  },
  {
   "cell_type": "markdown",
   "metadata": {
    "colab_type": "text",
    "id": "LbXqvC8FHqeu"
   },
   "source": [
    "Similarly, one can provide callbacks in `evaluate()` calls."
   ]
  },
  {
   "cell_type": "code",
   "execution_count": 16,
   "metadata": {
    "colab": {},
    "colab_type": "code",
    "id": "jzTKYPQHwcxF"
   },
   "outputs": [
    {
     "name": "stdout",
     "output_type": "stream",
     "text": [
      "For batch 0, loss is    4.20.\n",
      "For batch 1, loss is    4.20.\n",
      "For batch 2, loss is    4.20.\n",
      "For batch 3, loss is    4.20.\n",
      "For batch 4, loss is    4.20.\n",
      "For batch 5, loss is    4.20.\n",
      "For batch 6, loss is    4.20.\n",
      "For batch 7, loss is    4.20.\n",
      "For batch 8, loss is    4.20.\n",
      "For batch 9, loss is    4.20.\n",
      "For batch 10, loss is    4.20.\n",
      "For batch 11, loss is    4.20.\n",
      "For batch 12, loss is    4.20.\n",
      "For batch 13, loss is    4.20.\n",
      "For batch 14, loss is    4.20.\n",
      "For batch 15, loss is    4.20.\n",
      "For batch 16, loss is    4.20.\n",
      "For batch 17, loss is    4.20.\n",
      "For batch 18, loss is    4.20.\n",
      "For batch 19, loss is    4.20.\n"
     ]
    }
   ],
   "source": [
    "_ = model.evaluate(x_test, y_test, batch_size=128, verbose=0, steps=20,\n",
    "          callbacks=[LossAndErrorPrintingCallback()])"
   ]
  },
  {
   "cell_type": "markdown",
   "metadata": {
    "colab_type": "text",
    "id": "HnSljqtsXKfb"
   },
   "source": [
    "## Examples of Keras callback applications\n",
    "The following section will guide you through creating simple Callback applications."
   ]
  },
  {
   "cell_type": "markdown",
   "metadata": {
    "colab_type": "text",
    "id": "kptNF0--Lznv"
   },
   "source": [
    "### Early stopping at minimum loss\n",
    "First example showcases the creation of a `Callback` that stops the Keras training when the minimum of loss has been reached by mutating the attribute `model.stop_training` (boolean). Optionally, the user can provide an argument `patience` to specify how many epochs the training should wait before it eventually stops.\n",
    "\n",
    "`tf.keras.callbacks.EarlyStopping` provides a more complete and general implementation."
   ]
  },
  {
   "cell_type": "code",
   "execution_count": 18,
   "metadata": {
    "colab": {},
    "colab_type": "code",
    "id": "BM31gfAV4mks"
   },
   "outputs": [],
   "source": [
    "import numpy as np\n",
    "\n",
    "class EarlyStoppingAtMinLoss(tf.keras.callbacks.Callback):\n",
    "  \"\"\"Stop training when the loss is at its min, i.e. the loss stops decreasing.\n",
    "\n",
    "  Arguments:\n",
    "      patience: Number of epochs to wait after min has been hit. After this\n",
    "      number of no improvement, training stops.\n",
    "  \"\"\"\n",
    "\n",
    "  def __init__(self, patience=0):\n",
    "    super(EarlyStoppingAtMinLoss, self).__init__()\n",
    "\n",
    "    self.patience = patience\n",
    "\n",
    "    # best_weights to store the weights at which the minimum loss occurs.\n",
    "    self.best_weights = None\n",
    "\n",
    "  def on_train_begin(self, logs=None):\n",
    "    # The number of epoch it has waited when loss is no longer minimum.\n",
    "    self.wait = 0\n",
    "    # The epoch the training stops at.\n",
    "    self.stopped_epoch = 0\n",
    "    # Initialize the best as infinity.\n",
    "    self.best = np.Inf\n",
    "\n",
    "  def on_epoch_end(self, epoch, logs=None):\n",
    "    current = logs.get('loss')\n",
    "    if np.less(current, self.best):\n",
    "      self.best = current\n",
    "      self.wait = 0\n",
    "      # Record the best weights if current results is better (less).\n",
    "      self.best_weights = self.model.get_weights()\n",
    "    else:\n",
    "      self.wait += 1\n",
    "      if self.wait >= self.patience:\n",
    "        self.stopped_epoch = epoch\n",
    "        self.model.stop_training = True\n",
    "        print('Restoring model weights from the end of the best epoch.')\n",
    "        self.model.set_weights(self.best_weights)\n",
    "\n",
    "  def on_train_end(self, logs=None):\n",
    "    if self.stopped_epoch > 0:\n",
    "      print('Epoch %05d: early stopping' % (self.stopped_epoch + 1))"
   ]
  },
  {
   "cell_type": "code",
   "execution_count": 20,
   "metadata": {
    "colab": {},
    "colab_type": "code",
    "id": "xS4fa-7PFzzc"
   },
   "outputs": [
    {
     "name": "stdout",
     "output_type": "stream",
     "text": [
      "For batch 0, loss is   28.11.\n",
      "For batch 1, loss is  921.95.\n",
      "For batch 2, loss is   25.25.\n",
      "For batch 3, loss is    8.76.\n",
      "For batch 4, loss is    7.18.\n",
      "For batch 5, loss is    6.38.\n",
      "For batch 6, loss is    5.83.\n",
      "For batch 7, loss is    5.44.\n",
      "For batch 8, loss is    5.17.\n",
      "For batch 9, loss is    4.97.\n",
      "For batch 10, loss is    4.82.\n",
      "For batch 11, loss is    4.71.\n",
      "For batch 12, loss is    4.61.\n",
      "For batch 13, loss is    4.54.\n",
      "For batch 14, loss is    4.47.\n",
      "The average loss for epoch 0 is   69.48 and mean absolute error is    4.01.\n",
      "{'loss': 69.48049233754476, 'mean_absolute_error': 4.0090423}\n",
      "For batch 0, loss is    4.40.\n",
      "For batch 1, loss is    4.35.\n",
      "For batch 2, loss is    4.30.\n",
      "For batch 3, loss is    4.25.\n",
      "For batch 4, loss is    4.20.\n",
      "For batch 5, loss is    4.16.\n",
      "For batch 6, loss is    4.12.\n",
      "For batch 7, loss is    4.10.\n",
      "For batch 8, loss is    4.10.\n",
      "For batch 9, loss is    4.34.\n",
      "For batch 10, loss is    6.39.\n",
      "For batch 11, loss is   23.98.\n",
      "For batch 12, loss is  140.86.\n",
      "For batch 13, loss is  245.62.\n",
      "For batch 14, loss is  104.23.\n",
      "The average loss for epoch 1 is   37.56 and mean absolute error is    3.87.\n",
      "{'loss': 37.560606161753334, 'mean_absolute_error': 3.8739922}\n",
      "For batch 0, loss is   34.00.\n",
      "For batch 1, loss is   13.99.\n",
      "For batch 2, loss is    8.10.\n",
      "For batch 3, loss is    6.10.\n",
      "For batch 4, loss is    5.35.\n",
      "For batch 5, loss is    5.08.\n",
      "For batch 6, loss is    5.08.\n",
      "For batch 7, loss is    5.35.\n",
      "For batch 8, loss is    6.06.\n",
      "For batch 9, loss is    7.70.\n",
      "For batch 10, loss is   11.68.\n",
      "For batch 11, loss is   21.57.\n",
      "For batch 12, loss is   44.38.\n",
      "For batch 13, loss is   80.81.\n",
      "For batch 14, loss is   99.06.\n",
      "The average loss for epoch 2 is   23.62 and mean absolute error is    3.67.\n",
      "{'loss': 23.620930417378744, 'mean_absolute_error': 3.6694407}\n",
      "For batch 0, loss is   78.05.\n",
      "For batch 1, loss is   48.68.\n",
      "For batch 2, loss is   29.74.\n",
      "For batch 3, loss is   19.96.\n",
      "For batch 4, loss is   15.25.\n",
      "For batch 5, loss is   13.22.\n",
      "For batch 6, loss is   12.82.\n",
      "For batch 7, loss is   13.78.\n",
      "For batch 8, loss is   16.35.\n",
      "For batch 9, loss is   21.26.\n",
      "For batch 10, loss is   29.48.\n",
      "For batch 11, loss is   41.15.\n",
      "For batch 12, loss is   53.12.\n",
      "For batch 13, loss is   58.82.\n",
      "For batch 14, loss is   54.90.\n",
      "The average loss for epoch 3 is   33.77 and mean absolute error is    4.98.\n",
      "{'loss': 33.773232777913414, 'mean_absolute_error': 4.9781084}\n",
      "Restoring model weights from the end of the best epoch.\n",
      "Epoch 00004: early stopping\n"
     ]
    }
   ],
   "source": [
    "model = get_model()\n",
    "_ = model.fit(x_train, y_train,\n",
    "          batch_size=64,\n",
    "          steps_per_epoch=15,\n",
    "          epochs=30,\n",
    "          verbose=0,\n",
    "          callbacks=[LossAndErrorPrintingCallback(), EarlyStoppingAtMinLoss()])"
   ]
  },
  {
   "cell_type": "markdown",
   "metadata": {
    "colab_type": "text",
    "id": "SpVDjs_Dkkdh"
   },
   "source": [
    "### Learning rate scheduling\n",
    "\n",
    "One thing that is commonly done in model training is changing the learning rate as more epochs have passed. Keras backend exposes `get_value` API which can be used to set the variables. In this example, we're showing how a custom Callback can be used to dynamically change the learning rate.\n",
    "\n",
    "Note: This is just an example implementation. See `callbacks.LearningRateScheduler` and `keras.optimizers.schedules` for more general implementations."
   ]
  },
  {
   "cell_type": "code",
   "execution_count": 21,
   "metadata": {
    "colab": {},
    "colab_type": "code",
    "id": "PGowEUC8klSz"
   },
   "outputs": [],
   "source": [
    "class LearningRateScheduler(tf.keras.callbacks.Callback):\n",
    "  \"\"\"Learning rate scheduler which sets the learning rate according to schedule.\n",
    "\n",
    "  Arguments:\n",
    "      schedule: a function that takes an epoch index\n",
    "          (integer, indexed from 0) and current learning rate\n",
    "          as inputs and returns a new learning rate as output (float).\n",
    "  \"\"\"\n",
    "\n",
    "  def __init__(self, schedule):\n",
    "    super(LearningRateScheduler, self).__init__()\n",
    "    self.schedule = schedule\n",
    "\n",
    "  def on_epoch_begin(self, epoch, logs=None):\n",
    "    if not hasattr(self.model.optimizer, 'lr'):\n",
    "      raise ValueError('Optimizer must have a \"lr\" attribute.')\n",
    "    # Get the current learning rate from model's optimizer.\n",
    "    lr = float(tf.keras.backend.get_value(self.model.optimizer.lr))\n",
    "    # Call schedule function to get the scheduled learning rate.\n",
    "    scheduled_lr = self.schedule(epoch, lr)\n",
    "    # Set the value back to the optimizer before this epoch starts\n",
    "    tf.keras.backend.set_value(self.model.optimizer.lr, scheduled_lr)\n",
    "    print('\\nEpoch %05d: Learning rate is %6.4f.' % (epoch, scheduled_lr))"
   ]
  },
  {
   "cell_type": "code",
   "execution_count": 22,
   "metadata": {
    "colab": {},
    "colab_type": "code",
    "id": "1jL3pI5Ep5F8"
   },
   "outputs": [
    {
     "name": "stdout",
     "output_type": "stream",
     "text": [
      "\n",
      "Epoch 00000: Learning rate is 0.1000.\n",
      "For batch 0, loss is   29.63.\n",
      "For batch 1, loss is  917.48.\n",
      "For batch 2, loss is   26.52.\n",
      "For batch 3, loss is    9.24.\n",
      "For batch 4, loss is    7.48.\n",
      "The average loss for epoch 0 is  198.07 and mean absolute error is    8.37.\n",
      "{'loss': 198.07281913757325, 'mean_absolute_error': 8.371842}\n",
      "\n",
      "Epoch 00001: Learning rate is 0.1000.\n",
      "For batch 0, loss is    6.57.\n",
      "For batch 1, loss is    5.95.\n",
      "For batch 2, loss is    5.53.\n",
      "For batch 3, loss is    5.23.\n",
      "For batch 4, loss is    5.02.\n",
      "The average loss for epoch 1 is    5.66 and mean absolute error is    1.99.\n",
      "{'loss': 5.659059619903564, 'mean_absolute_error': 1.9914137}\n",
      "\n",
      "Epoch 00002: Learning rate is 0.1000.\n",
      "For batch 0, loss is    4.86.\n",
      "For batch 1, loss is    4.74.\n",
      "For batch 2, loss is    4.64.\n",
      "For batch 3, loss is    4.56.\n",
      "For batch 4, loss is    4.49.\n",
      "The average loss for epoch 2 is    4.66 and mean absolute error is    1.77.\n",
      "{'loss': 4.658311939239502, 'mean_absolute_error': 1.7664484}\n",
      "\n",
      "Epoch 00003: Learning rate is 0.0500.\n",
      "For batch 0, loss is    4.43.\n",
      "For batch 1, loss is    4.40.\n",
      "For batch 2, loss is    4.37.\n",
      "For batch 3, loss is    4.34.\n",
      "For batch 4, loss is    4.31.\n",
      "The average loss for epoch 3 is    4.37 and mean absolute error is    1.69.\n",
      "{'loss': 4.369307899475098, 'mean_absolute_error': 1.6867634}\n",
      "\n",
      "Epoch 00004: Learning rate is 0.0500.\n",
      "For batch 0, loss is    4.28.\n",
      "For batch 1, loss is    4.26.\n",
      "For batch 2, loss is    4.23.\n",
      "For batch 3, loss is    4.20.\n",
      "For batch 4, loss is    4.18.\n",
      "The average loss for epoch 4 is    4.23 and mean absolute error is    1.65.\n",
      "{'loss': 4.231106567382812, 'mean_absolute_error': 1.6477141}\n",
      "\n",
      "Epoch 00005: Learning rate is 0.0500.\n",
      "For batch 0, loss is    4.15.\n",
      "For batch 1, loss is    4.13.\n",
      "For batch 2, loss is    4.10.\n",
      "For batch 3, loss is    4.08.\n",
      "For batch 4, loss is    4.06.\n",
      "The average loss for epoch 5 is    4.11 and mean absolute error is    1.61.\n",
      "{'loss': 4.105431461334229, 'mean_absolute_error': 1.6113108}\n",
      "\n",
      "Epoch 00006: Learning rate is 0.0100.\n",
      "For batch 0, loss is    4.04.\n",
      "For batch 1, loss is    4.03.\n",
      "For batch 2, loss is    4.03.\n",
      "For batch 3, loss is    4.02.\n",
      "For batch 4, loss is    4.02.\n",
      "The average loss for epoch 6 is    4.03 and mean absolute error is    1.59.\n",
      "{'loss': 4.027719593048095, 'mean_absolute_error': 1.588254}\n",
      "\n",
      "Epoch 00007: Learning rate is 0.0100.\n",
      "For batch 0, loss is    4.01.\n",
      "For batch 1, loss is    4.01.\n",
      "For batch 2, loss is    4.00.\n",
      "For batch 3, loss is    4.00.\n",
      "For batch 4, loss is    3.99.\n",
      "The average loss for epoch 7 is    4.00 and mean absolute error is    1.58.\n",
      "{'loss': 4.002898216247559, 'mean_absolute_error': 1.5807488}\n",
      "\n",
      "Epoch 00008: Learning rate is 0.0100.\n",
      "For batch 0, loss is    3.99.\n",
      "For batch 1, loss is    3.98.\n",
      "For batch 2, loss is    3.97.\n",
      "For batch 3, loss is    3.97.\n",
      "For batch 4, loss is    3.96.\n",
      "The average loss for epoch 8 is    3.97 and mean absolute error is    1.57.\n",
      "{'loss': 3.974171018600464, 'mean_absolute_error': 1.5719858}\n",
      "\n",
      "Epoch 00009: Learning rate is 0.0050.\n",
      "For batch 0, loss is    3.96.\n",
      "For batch 1, loss is    3.95.\n",
      "For batch 2, loss is    3.95.\n",
      "For batch 3, loss is    3.94.\n",
      "For batch 4, loss is    3.94.\n",
      "The average loss for epoch 9 is    3.95 and mean absolute error is    1.56.\n",
      "{'loss': 3.948422574996948, 'mean_absolute_error': 1.5640721}\n",
      "\n",
      "Epoch 00010: Learning rate is 0.0050.\n",
      "For batch 0, loss is    3.94.\n",
      "For batch 1, loss is    3.93.\n",
      "For batch 2, loss is    3.93.\n",
      "For batch 3, loss is    3.93.\n",
      "For batch 4, loss is    3.92.\n",
      "The average loss for epoch 10 is    3.93 and mean absolute error is    1.56.\n",
      "{'loss': 3.929418992996216, 'mean_absolute_error': 1.5582151}\n",
      "\n",
      "Epoch 00011: Learning rate is 0.0050.\n",
      "For batch 0, loss is    3.92.\n",
      "For batch 1, loss is    3.91.\n",
      "For batch 2, loss is    3.91.\n",
      "For batch 3, loss is    3.90.\n",
      "For batch 4, loss is    3.90.\n",
      "The average loss for epoch 11 is    3.91 and mean absolute error is    1.55.\n",
      "{'loss': 3.9074028968811034, 'mean_absolute_error': 1.5514108}\n",
      "\n",
      "Epoch 00012: Learning rate is 0.0010.\n",
      "For batch 0, loss is    3.89.\n",
      "For batch 1, loss is    3.89.\n",
      "For batch 2, loss is    3.89.\n",
      "For batch 3, loss is    3.89.\n",
      "For batch 4, loss is    3.89.\n",
      "The average loss for epoch 12 is    3.89 and mean absolute error is    1.55.\n",
      "{'loss': 3.8907901763916017, 'mean_absolute_error': 1.5462687}\n",
      "\n",
      "Epoch 00013: Learning rate is 0.0010.\n",
      "For batch 0, loss is    3.89.\n",
      "For batch 1, loss is    3.89.\n",
      "For batch 2, loss is    3.88.\n",
      "For batch 3, loss is    3.88.\n",
      "For batch 4, loss is    3.88.\n",
      "The average loss for epoch 13 is    3.88 and mean absolute error is    1.54.\n",
      "{'loss': 3.8847301483154295, 'mean_absolute_error': 1.5443901}\n",
      "\n",
      "Epoch 00014: Learning rate is 0.0010.\n",
      "For batch 0, loss is    3.88.\n",
      "For batch 1, loss is    3.88.\n",
      "For batch 2, loss is    3.88.\n",
      "For batch 3, loss is    3.88.\n",
      "For batch 4, loss is    3.87.\n",
      "The average loss for epoch 14 is    3.88 and mean absolute error is    1.54.\n",
      "{'loss': 3.8773608684539793, 'mean_absolute_error': 1.5421032}\n"
     ]
    }
   ],
   "source": [
    "LR_SCHEDULE = [\n",
    "    # (epoch to start, learning rate) tuples\n",
    "    (3, 0.05), (6, 0.01), (9, 0.005), (12, 0.001)\n",
    "]\n",
    "\n",
    "def lr_schedule(epoch, lr):\n",
    "  \"\"\"Helper function to retrieve the scheduled learning rate based on epoch.\"\"\"\n",
    "  if epoch < LR_SCHEDULE[0][0] or epoch > LR_SCHEDULE[-1][0]:\n",
    "    return lr\n",
    "  for i in range(len(LR_SCHEDULE)):\n",
    "    if epoch == LR_SCHEDULE[i][0]:\n",
    "      return LR_SCHEDULE[i][1]\n",
    "  return lr\n",
    "\n",
    "model = get_model()\n",
    "_ = model.fit(x_train, y_train,\n",
    "          batch_size=64,\n",
    "          steps_per_epoch=5,\n",
    "          epochs=15,\n",
    "          verbose=0,\n",
    "          callbacks=[LossAndErrorPrintingCallback(), LearningRateScheduler(lr_schedule)])"
   ]
  },
  {
   "cell_type": "markdown",
   "metadata": {
    "colab_type": "text",
    "id": "9xMkm699JzK8"
   },
   "source": [
    "### Standard Keras callbacks\n",
    "Be sure to check out the existing Keras callbacks by [visiting the API doc](https://www.tensorflow.org/api_docs/python/tf/keras/callbacks). Applications include logging to CSV, saving the model, visualizing on TensorBoard and a lot more."
   ]
  },
  {
   "cell_type": "markdown",
   "metadata": {
    "colab_type": "text",
    "id": "9xMkm699JzK8"
   },
   "source": [
    "Here, stateful_metrics are the name of the metrics that you don’t want to average over an epoch. All the metrics names should be passed in the form of iterable like lists etc. For instance, stateful_metrics=[‘acc’,’loss’]."
   ]
  },
  {
   "cell_type": "code",
   "execution_count": null,
   "metadata": {
    "colab_type": "text",
    "id": "9xMkm699JzK8"
   },
   "outputs": [],
   "source": [
    "keras.callbacks.BaseLogger(stateful_metrics=None)"
   ]
  }
 ],
 "metadata": {
  "colab": {
   "collapsed_sections": [
    "9xMkm699JzK8"
   ],
   "name": "custom_callback.ipynb",
   "private_outputs": true,
   "provenance": [],
   "toc_visible": true,
   "version": "0.3.2"
  },
  "kernelspec": {
   "display_name": "Python 3",
   "language": "python",
   "name": "python3"
  },
  "language_info": {
   "codemirror_mode": {
    "name": "ipython",
    "version": 3
   },
   "file_extension": ".py",
   "mimetype": "text/x-python",
   "name": "python",
   "nbconvert_exporter": "python",
   "pygments_lexer": "ipython3",
   "version": "3.6.4"
  }
 },
 "nbformat": 4,
 "nbformat_minor": 2
}
