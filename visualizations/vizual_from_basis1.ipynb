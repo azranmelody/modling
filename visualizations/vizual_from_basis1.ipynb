{
 "cells": [
  {
   "cell_type": "code",
   "execution_count": 9,
   "metadata": {},
   "outputs": [],
   "source": [
    "import pandas as pd\n",
    "import numpy as np\n",
    "from sklearn import metrics\n",
    "import matplotlib.pyplot as plt\n",
    "import sklearn\n",
    "import seaborn as sns\n",
    "import shutil\n",
    "import encodings\n",
    "from bidi.algorithm import get_display\n",
    "\n",
    "import warnings\n",
    "import sys\n",
    "import os\n",
    "if not sys.warnoptions:\n",
    "    warnings.simplefilter(\"ignore\")"
   ]
  },
  {
   "cell_type": "code",
   "execution_count": null,
   "metadata": {},
   "outputs": [],
   "source": []
  },
  {
   "cell_type": "code",
   "execution_count": 10,
   "metadata": {},
   "outputs": [],
   "source": [
    "def kamut_per_feature(data,x_axis, annot=(35,10), figsize=(25,8), font_scale=1.4,palette=None,color=None):\n",
    "    sns.set(rc={'figure.figsize': figsize}, font_scale=font_scale)\n",
    "    ax = sns.countplot(x=x_axis, data=data, palette=palette,color=color)\n",
    "    for p in ax.patches:\n",
    "        ax.annotate(str(p.get_height()) , (p.get_x()+p.get_width()/2, p.get_height()), ha='center')"
   ]
  },
  {
   "cell_type": "code",
   "execution_count": 1,
   "metadata": {},
   "outputs": [],
   "source": [
    "def kamut_per_feature1_by_feature2(data,feature,x_axis,graph_width=25,axs=None,title='',\n",
    "                                   memuza_feature='',font_scale=1.2,palette='Set2', graph_height=8):\n",
    "    sns.set(rc={'figure.figsize': (graph_width,graph_height)}, font_scale=font_scale)\n",
    "    if axs is not None:\n",
    "        ax = sns.countplot(x=x_axis,data=data,hue=feature,ax=axs[0], orient='v')\n",
    "        ax.set_title(title)\n",
    "        ax.set_xticklabels(ax.get_xticklabels(),rotation=45)#,horizontalaligment='right')\n",
    "    else:\n",
    "        ax = sns.countplot(x=x_axis,data=data,hue=feature, orient='v')\n",
    "        ax.set_title(title)\n",
    "        ax.set_xticklabels(ax.get_xticklabels(),rotation=45)#,horizontalaligment='right') \n",
    "    for p in ax.patches:\n",
    "        ax.annotate(str(p.get_height()), (p.get_x()+p.get_width()/2 , p.get_height()), ha='center')\n",
    "        "
   ]
  },
  {
   "cell_type": "code",
   "execution_count": null,
   "metadata": {},
   "outputs": [],
   "source": [
    "def ahuz_per_feature1_by_feature2(data,feature,x_axis,graph_width=25,axs=None,font_scale=1.4\n",
    "                                  palette='Set2', graph_height=8,count_what='MISPAR_ISHI',\n",
    "                                  order_by_count=None):\n",
    "    data[x_axis] = [(lambda x: get_display(str(x)))(x) for x on (data[x_axis])]\n",
    "    if (order_by_count!=None):\n",
    "        order_by_count = data[x_axis].value_counts().index\n",
    "        \n",
    "    sns.set(rc={'figure.figsize': (graph_width,graph_height)}, font_scale=font_scale)\n",
    "    df_pvt = data.pivot_table(index=x_axis, columns=feature, values=count_what, aggfunc='count',fill_value=0)\n",
    "    df_pvt_perc = df_pvt.div(df_pvt.sum(axis=1), axis=0)\n",
    "    cols = df_pvt_perc.columns.tolist()\n",
    "    cols = cols[-1:] + cols[:-1]\n",
    "    df_pvt_perc = df_pvt_perc[cols]"
   ]
  }
 ],
 "metadata": {
  "kernelspec": {
   "display_name": "Python 3",
   "language": "python",
   "name": "python3"
  },
  "language_info": {
   "codemirror_mode": {
    "name": "ipython",
    "version": 3
   },
   "file_extension": ".py",
   "mimetype": "text/x-python",
   "name": "python",
   "nbconvert_exporter": "python",
   "pygments_lexer": "ipython3",
   "version": "3.6.4"
  }
 },
 "nbformat": 4,
 "nbformat_minor": 2
}
