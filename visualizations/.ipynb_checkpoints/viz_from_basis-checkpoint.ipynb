{
 "cells": [
  {
   "cell_type": "code",
   "execution_count": 9,
   "metadata": {},
   "outputs": [],
   "source": [
    "import pandas as pd\n",
    "import numpy as np\n",
    "from sklearn import metrics\n",
    "import matplotlib.pyplot as plt\n",
    "import sklearn\n",
    "import seaborn as sns\n",
    "import shutil\n",
    "import encodings\n",
    "from bidi.algorithm import get_display\n",
    "\n",
    "import warnings\n",
    "import sys\n",
    "import os\n",
    "if not sys.warnoptions:\n",
    "    warnings.simplefilter(\"ignore\")\n",
    "    "
   ]
  },
  {
   "cell_type": "code",
   "execution_count": null,
   "metadata": {},
   "outputs": [],
   "source": []
  },
  {
   "cell_type": "code",
   "execution_count": 12,
   "metadata": {},
   "outputs": [],
   "source": [
    "def kamut_per_feature(data,x_axis, annot=(35,10), figsize=(25,8), font_scale=1.4,palette=None,color=None):\n",
    "    sns.set(rc={'figure.figsize': figsize}, font_scale=font_scale)\n",
    "    ax = sns.countplot(x=x_axis, data=data, palette=palette,color=color)\n",
    "    for p in ax.patches:\n",
    "        ax.annotate(str(p.get_height()) , (p.get_x()+p.get_width()/2, p.get_height()), ha='center')"
   ]
  },
  {
   "cell_type": "code",
   "execution_count": null,
   "metadata": {},
   "outputs": [],
   "source": []
  }
 ],
 "metadata": {
  "kernelspec": {
   "display_name": "Python 3",
   "language": "python",
   "name": "python3"
  },
  "language_info": {
   "codemirror_mode": {
    "name": "ipython",
    "version": 3
   },
   "file_extension": ".py",
   "mimetype": "text/x-python",
   "name": "python",
   "nbconvert_exporter": "python",
   "pygments_lexer": "ipython3",
   "version": "3.6.4"
  }
 },
 "nbformat": 4,
 "nbformat_minor": 2
}
